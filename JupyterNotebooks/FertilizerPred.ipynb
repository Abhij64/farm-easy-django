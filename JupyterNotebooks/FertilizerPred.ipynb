{
 "cells": [
  {
   "cell_type": "code",
   "execution_count": 1,
   "id": "86da2200-6307-4dc8-bc71-e4f7fdb5b4ab",
   "metadata": {},
   "outputs": [],
   "source": [
    "import pandas as pd\n",
    "import numpy as np\n",
    "import matplotlib.pyplot as plt"
   ]
  },
  {
   "cell_type": "code",
   "execution_count": 4,
   "id": "c483e886-f1aa-4655-b13a-66f7c5f52c21",
   "metadata": {},
   "outputs": [
    {
     "name": "stdout",
     "output_type": "stream",
     "text": [
      "Model Accuracy: 0.95\n"
     ]
    },
    {
     "data": {
      "text/plain": [
       "['./../SavedNotebooks/label_encoder_fertilizer.pkl']"
      ]
     },
     "execution_count": 4,
     "metadata": {},
     "output_type": "execute_result"
    }
   ],
   "source": [
    "import pandas as pd\n",
    "from sklearn.preprocessing import LabelEncoder\n",
    "from sklearn.model_selection import train_test_split\n",
    "from sklearn.ensemble import RandomForestClassifier\n",
    "from sklearn.metrics import accuracy_score\n",
    "\n",
    "# Load the dataset\n",
    "df = pd.read_csv('Fertilizer Prediction.csv')\n",
    "\n",
    "# Encode categorical features\n",
    "label_encoder_soil = LabelEncoder()\n",
    "label_encoder_crop = LabelEncoder()\n",
    "label_encoder_fertilizer = LabelEncoder()\n",
    "\n",
    "df['Soil Type'] = label_encoder_soil.fit_transform(df['Soil Type'])\n",
    "df['Crop Type'] = label_encoder_crop.fit_transform(df['Crop Type'])\n",
    "df['Fertilizer Name'] = label_encoder_fertilizer.fit_transform(df['Fertilizer Name'])\n",
    "\n",
    "# Prepare features and target\n",
    "X = df[['Soil Type', 'Crop Type', 'Temparature', 'Humidity ', 'Moisture', 'Nitrogen', 'Potassium', 'Phosphorous']]\n",
    "y = df['Fertilizer Name']\n",
    "\n",
    "# Split the data\n",
    "X_train, X_test, y_train, y_test = train_test_split(X, y, test_size=0.2, random_state=42)\n",
    "\n",
    "# Initialize and train the Random Forest model\n",
    "rf_model = RandomForestClassifier(n_estimators=100, random_state=42)\n",
    "rf_model.fit(X_train, y_train)\n",
    "\n",
    "# Predict and evaluate the model\n",
    "y_pred = rf_model.predict(X_test)\n",
    "accuracy = accuracy_score(y_test, y_pred)\n",
    "print(f\"Model Accuracy: {accuracy:.2f}\")\n",
    "\n",
    "# Save the model and encoders for future use\n",
    "import joblib\n",
    "joblib.dump(rf_model, './../SavedNotebooks/rf_model.pkl')\n",
    "joblib.dump(label_encoder_soil, './../SavedNotebooks/label_encoder_soil.pkl')\n",
    "joblib.dump(label_encoder_crop, './../SavedNotebooks/label_encoder_crop.pkl')\n",
    "joblib.dump(label_encoder_fertilizer, './../SavedNotebooks/label_encoder_fertilizer.pkl')\n"
   ]
  },
  {
   "cell_type": "code",
   "execution_count": 6,
   "id": "b5c479fc-4aff-4ce1-b0b7-f37d35254ea2",
   "metadata": {},
   "outputs": [
    {
     "name": "stdout",
     "output_type": "stream",
     "text": [
      "Temperature: 25.1°C\n",
      "Humidity: 83%\n",
      "Predicted Fertilizer: 28-28\n"
     ]
    }
   ],
   "source": [
    "import requests\n",
    "import pandas as pd\n",
    "from sklearn.preprocessing import LabelEncoder\n",
    "import joblib\n",
    "\n",
    "# Load the model and encoders\n",
    "rf_model = joblib.load('./../SavedNotebooks/rf_model.pkl')\n",
    "label_encoder_soil = joblib.load('./../SavedNotebooks/label_encoder_soil.pkl')\n",
    "label_encoder_crop = joblib.load('./../SavedNotebooks/label_encoder_crop.pkl')\n",
    "label_encoder_fertilizer = joblib.load('./../SavedNotebooks/label_encoder_fertilizer.pkl')\n",
    "\n",
    "# Weather API\n",
    "api_key = '4c38c70ac3a344c5bfa40207240809'\n",
    "location = 'Hyderabad'\n",
    "url = f'http://api.weatherapi.com/v1/current.json?key={api_key}&q={location}&aqi=no'\n",
    "\n",
    "try:\n",
    "    response = requests.get(url)\n",
    "    response.raise_for_status()\n",
    "\n",
    "    weather_data = response.json()\n",
    "\n",
    "    if 'current' in weather_data:\n",
    "        temperature = weather_data['current']['temp_c']\n",
    "        humidity = weather_data['current']['humidity']\n",
    "    else:\n",
    "        print(\"Error: Unexpected response format.\")\n",
    "        temperature = 25\n",
    "        humidity = 50\n",
    "\n",
    "    print(f\"Temperature: {temperature}°C\")\n",
    "    print(f\"Humidity: {humidity}%\")\n",
    "\n",
    "    # Prepare input data\n",
    "    input_data = pd.DataFrame({\n",
    "        'Soil Type': ['Sandy'],\n",
    "        'Crop Type': ['Maize'],\n",
    "        'Temparature': [temperature],\n",
    "        'Humidity ': [humidity],\n",
    "        'Moisture': [40],\n",
    "        'Nitrogen': [20],\n",
    "        'Potassium': [10],\n",
    "        'Phosphorous': [15]\n",
    "    })\n",
    "\n",
    "    # Encode input data\n",
    "    input_data['Soil Type'] = label_encoder_soil.transform(input_data['Soil Type'])\n",
    "    input_data['Crop Type'] = label_encoder_crop.transform(input_data['Crop Type'])\n",
    "\n",
    "    # Predict\n",
    "    predicted_fertilizer_encoded = rf_model.predict(input_data)\n",
    "    predicted_fertilizer = label_encoder_fertilizer.inverse_transform(predicted_fertilizer_encoded)\n",
    "    print(f\"Predicted Fertilizer: {predicted_fertilizer[0]}\")\n",
    "\n",
    "except requests.exceptions.RequestException as e:\n",
    "    print(f\"Error fetching weather data: {e}\")\n",
    "except Exception as e:\n",
    "    print(f\"An error occurred: {e}\")\n"
   ]
  },
  {
   "cell_type": "code",
   "execution_count": null,
   "id": "5d7be711-074c-4cc6-a074-058a08815c34",
   "metadata": {},
   "outputs": [],
   "source": []
  }
 ],
 "metadata": {
  "kernelspec": {
   "display_name": "Python 3 (ipykernel)",
   "language": "python",
   "name": "python3"
  },
  "language_info": {
   "codemirror_mode": {
    "name": "ipython",
    "version": 3
   },
   "file_extension": ".py",
   "mimetype": "text/x-python",
   "name": "python",
   "nbconvert_exporter": "python",
   "pygments_lexer": "ipython3",
   "version": "3.12.2"
  }
 },
 "nbformat": 4,
 "nbformat_minor": 5
}
